{
 "cells": [
  {
   "cell_type": "code",
   "execution_count": 1,
   "metadata": {},
   "outputs": [
    {
     "name": "stderr",
     "output_type": "stream",
     "text": [
      "2024-09-25 16:23:23.569 \n",
      "  \u001b[33m\u001b[1mWarning:\u001b[0m to view this Streamlit app on a browser, run it with the following\n",
      "  command:\n",
      "\n",
      "    streamlit run C:\\Users\\BAHA ENES\\AppData\\Roaming\\Python\\Python312\\site-packages\\ipykernel_launcher.py [ARGUMENTS]\n"
     ]
    }
   ],
   "source": [
    "import streamlit as st\n",
    "import streamlit as st\n",
    "import pickle\n",
    "import pandas as pd\n",
    "\n",
    "# Modeli yükle\n",
    "with open('xgb_model.pkl', 'rb') as file:\n",
    "    model = pickle.load(file)\n",
    "\n",
    "# Kullanıcıdan giriş alma\n",
    "st.title(\"Obezite Tahmin Modeli\")\n",
    "\n",
    "sex = st.selectbox(\"Cinsiyet(1 : Erkek , 2 : Kadın):\", [1, 2])  # 1: Erkek, 2: Kadın\n",
    "age = st.number_input(\"Yaş:\", min_value=0, max_value=120)\n",
    "height = st.number_input(\"Boy (cm):\", min_value=0, max_value=250)\n",
    "overweight_obese_family = st.selectbox(\"Ailede Obezite Geçmişi(1 : Obeziteye sahip aile bireyi var, 2 : Obeziteye sahip aile bireyi yok):\", [1, 2])  \n",
    "consumption_of_fast_food = st.selectbox(\"Hızlı Gıda Tüketimi (1 : Evet ,2 : Hayır):\", [1, 2])\n",
    "frequency_of_consuming_vegetables = st.selectbox(\"Sebze Tüketim Sıklığı (1 : Nadiren, 2 : Ara sıra , 3 : Her zaman):\", [1, 2, 3])\n",
    "number_of_main_meals_daily = st.selectbox(\"Günlük Ana Yemek Sayısı (1 : Günde 1-2 , 2 : Günde 3 , 3: Günde 3 'ten fazla):\", [1, 2, 3])\n",
    "food_intake_between_meals = st.selectbox(\"Ana Öğünler Arası Gıda Tüketimi (1 :Nadiren yaparım, 2 : Ara sıra yaparım , 3 : Genellikle yaparım, 4 : Her zaman yaparım ):\", [1, 2, 3, 4])\n",
    "smoking = st.selectbox(\"Sigara Kullanımı (1: Evet, 2: Hayır):\", [1, 2])\n",
    "liquid_intake_daily = st.selectbox(\"Günlük Sıvı Tüketimi (1 : 1 litreden az, 2 : 1 ile 2 litre arası , 3 : 2 litreden fazla):\", [1, 2, 3])\n",
    "calculation_of_calorie_intake = st.selectbox(\"Kalori Alımını Hesaplama (1 : Kalori alımını hesaplıyorum, 2 : Kalori alımını hesaplamaıyorum):\", [1, 2])\n",
    "physical_exercise = st.selectbox(\"Fiziksel Egzersiz (1 : Fiziksel olarak aktif değilim, 2 : Haftada 1 ile 2 gün yaparım, 3 : Haftada 3 ile 4 gün yaparım, 4 : Haftada 5 ile 6 gün yaparım,  5 : Haftada 6 veya daha fazla yaparım.):\", [1, 2, 3, 4, 5])\n",
    "schedule_dedicated_to_technology = st.selectbox(\"Teknolojiye Ayırılan Zaman (1 : Günlük 0 ile 2 saat ayırırım, 2 : Günlük 3 ile 5 saat ayırırım, 3 : Günlük 5 saatten fazla ayırırım):\", [1, 2, 3, 4, 5])\n",
    "type_of_transportation_used = st.selectbox(\"Kullanılan Ulaşım Türü (1 : Otomobil , 2 : Motor , 3 : Bisiklet, 4 : Toplu Taşıma , 5 : Yürüme ):\", [1, 2, 3, 4, 5])\n",
    "\n",
    "# Giriş verilerini bir DataFrame'e dönüştürme\n",
    "input_data = pd.DataFrame({\n",
    "    \"Sex\": [sex],\n",
    "    \"Age\": [age],\n",
    "    \"Height\": [height],\n",
    "    \"Overweight_Obese_Family\": [overweight_obese_family],\n",
    "    \"Consumption_of_Fast_Food\": [consumption_of_fast_food],\n",
    "    \"Frequency_of_Consuming_Vegetables\": [frequency_of_consuming_vegetables],\n",
    "    \"Number_of_Main_Meals_Daily\": [number_of_main_meals_daily],\n",
    "    \"Food_Intake_Between_Meals\": [food_intake_between_meals],\n",
    "    \"Smoking\": [smoking],\n",
    "    \"Liquid_Intake_Daily\": [liquid_intake_daily],\n",
    "    \"Calculation_of_Calorie_Intake\": [calculation_of_calorie_intake],\n",
    "    \"Physical_Excercise\": [physical_exercise],\n",
    "    \"Schedule_Dedicated_to_Technology\": [schedule_dedicated_to_technology],\n",
    "    \"Type_of_Transportation_Used\": [type_of_transportation_used]\n",
    "})\n",
    "\n",
    "# Modeli kullanarak tahmin yapma\n",
    "if st.button(\"Tahmin Et\"):\n",
    "    predictions = model.predict(input_data)\n",
    "    st.write(\"Tahmin edilen sınıf:\", predictions[0])\n"
   ]
  }
 ],
 "metadata": {
  "kernelspec": {
   "display_name": "base",
   "language": "python",
   "name": "python3"
  },
  "language_info": {
   "codemirror_mode": {
    "name": "ipython",
    "version": 3
   },
   "file_extension": ".py",
   "mimetype": "text/x-python",
   "name": "python",
   "nbconvert_exporter": "python",
   "pygments_lexer": "ipython3",
   "version": "3.12.3"
  }
 },
 "nbformat": 4,
 "nbformat_minor": 2
}
